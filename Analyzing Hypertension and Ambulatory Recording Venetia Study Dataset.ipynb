{
 "cells": [
  {
   "cell_type": "markdown",
   "id": "b75622bd",
   "metadata": {},
   "source": [
    "# PETR 6397 Petroleum Data Analytics\n",
    "## Homework 2\n",
    "### Name: Guna Sekhar Siddabathuni\n",
    "### Psid: 2312120\n",
    "\n",
    "### SECTION- C"
   ]
  },
  {
   "cell_type": "code",
   "execution_count": 2,
   "id": "8d87f869",
   "metadata": {},
   "outputs": [],
   "source": [
    "import pandas as pd\n",
    "import numpy as np\n",
    "from sklearn.metrics import mean_squared_error, r2_score\n",
    "from scipy.stats import chi2_contingency"
   ]
  },
  {
   "cell_type": "code",
   "execution_count": 3,
   "id": "27871d35",
   "metadata": {},
   "outputs": [
    {
     "data": {
      "text/html": [
       "<div>\n",
       "<style scoped>\n",
       "    .dataframe tbody tr th:only-of-type {\n",
       "        vertical-align: middle;\n",
       "    }\n",
       "\n",
       "    .dataframe tbody tr th {\n",
       "        vertical-align: top;\n",
       "    }\n",
       "\n",
       "    .dataframe thead th {\n",
       "        text-align: right;\n",
       "    }\n",
       "</style>\n",
       "<table border=\"1\" class=\"dataframe\">\n",
       "  <thead>\n",
       "    <tr style=\"text-align: right;\">\n",
       "      <th></th>\n",
       "      <th>Smoke</th>\n",
       "      <th>Sport</th>\n",
       "      <th>SBPCB</th>\n",
       "      <th>DBPCB</th>\n",
       "      <th>HRCB</th>\n",
       "      <th>SBPAB</th>\n",
       "      <th>DBPAB</th>\n",
       "      <th>HRAB</th>\n",
       "      <th>SBPA3</th>\n",
       "      <th>DBPA3</th>\n",
       "      <th>...</th>\n",
       "      <th>DBPCE</th>\n",
       "      <th>HRCE</th>\n",
       "      <th>SBPAE</th>\n",
       "      <th>DBPAE</th>\n",
       "      <th>HRAE</th>\n",
       "      <th>AgeB</th>\n",
       "      <th>BMIB</th>\n",
       "      <th>EndPoint</th>\n",
       "      <th>Time</th>\n",
       "      <th>Male</th>\n",
       "    </tr>\n",
       "  </thead>\n",
       "  <tbody>\n",
       "    <tr>\n",
       "      <th>0</th>\n",
       "      <td>0</td>\n",
       "      <td>0</td>\n",
       "      <td>152.00</td>\n",
       "      <td>98.00</td>\n",
       "      <td>80.67</td>\n",
       "      <td>133.13</td>\n",
       "      <td>83.80</td>\n",
       "      <td>71.18</td>\n",
       "      <td>129.56</td>\n",
       "      <td>81.21</td>\n",
       "      <td>...</td>\n",
       "      <td>.</td>\n",
       "      <td>.</td>\n",
       "      <td>.</td>\n",
       "      <td>.</td>\n",
       "      <td>.</td>\n",
       "      <td>24</td>\n",
       "      <td>22.694</td>\n",
       "      <td>0</td>\n",
       "      <td>80</td>\n",
       "      <td>1</td>\n",
       "    </tr>\n",
       "    <tr>\n",
       "      <th>1</th>\n",
       "      <td>2</td>\n",
       "      <td>2</td>\n",
       "      <td>153.33</td>\n",
       "      <td>96.33</td>\n",
       "      <td>99.67</td>\n",
       "      <td>130.60</td>\n",
       "      <td>73.25</td>\n",
       "      <td>70.42</td>\n",
       "      <td>.</td>\n",
       "      <td>.</td>\n",
       "      <td>...</td>\n",
       "      <td>.</td>\n",
       "      <td>.</td>\n",
       "      <td>.</td>\n",
       "      <td>.</td>\n",
       "      <td>.</td>\n",
       "      <td>42</td>\n",
       "      <td>26.644</td>\n",
       "      <td>0</td>\n",
       "      <td>73</td>\n",
       "      <td>0</td>\n",
       "    </tr>\n",
       "    <tr>\n",
       "      <th>2</th>\n",
       "      <td>1</td>\n",
       "      <td>0</td>\n",
       "      <td>149.33</td>\n",
       "      <td>103.67</td>\n",
       "      <td>73</td>\n",
       "      <td>116.34</td>\n",
       "      <td>84.95</td>\n",
       "      <td>76.85</td>\n",
       "      <td>.</td>\n",
       "      <td>.</td>\n",
       "      <td>...</td>\n",
       "      <td>.</td>\n",
       "      <td>.</td>\n",
       "      <td>.</td>\n",
       "      <td>.</td>\n",
       "      <td>.</td>\n",
       "      <td>28</td>\n",
       "      <td>22.266</td>\n",
       "      <td>0</td>\n",
       "      <td>80</td>\n",
       "      <td>0</td>\n",
       "    </tr>\n",
       "    <tr>\n",
       "      <th>3</th>\n",
       "      <td>0</td>\n",
       "      <td>2</td>\n",
       "      <td>149.33</td>\n",
       "      <td>92.00</td>\n",
       "      <td>74</td>\n",
       "      <td>104.99</td>\n",
       "      <td>74.33</td>\n",
       "      <td>76.05</td>\n",
       "      <td>115.48</td>\n",
       "      <td>77.91</td>\n",
       "      <td>...</td>\n",
       "      <td>.</td>\n",
       "      <td>.</td>\n",
       "      <td>.</td>\n",
       "      <td>.</td>\n",
       "      <td>.</td>\n",
       "      <td>44</td>\n",
       "      <td>23.951</td>\n",
       "      <td>0</td>\n",
       "      <td>80</td>\n",
       "      <td>1</td>\n",
       "    </tr>\n",
       "    <tr>\n",
       "      <th>4</th>\n",
       "      <td>0</td>\n",
       "      <td>2</td>\n",
       "      <td>158.00</td>\n",
       "      <td>105.00</td>\n",
       "      <td>73.33</td>\n",
       "      <td>115.26</td>\n",
       "      <td>77.97</td>\n",
       "      <td>81.47</td>\n",
       "      <td>118.07</td>\n",
       "      <td>79.44</td>\n",
       "      <td>...</td>\n",
       "      <td>.</td>\n",
       "      <td>.</td>\n",
       "      <td>.</td>\n",
       "      <td>.</td>\n",
       "      <td>.</td>\n",
       "      <td>36</td>\n",
       "      <td>22.234</td>\n",
       "      <td>0</td>\n",
       "      <td>80</td>\n",
       "      <td>0</td>\n",
       "    </tr>\n",
       "  </tbody>\n",
       "</table>\n",
       "<p>5 rows × 28 columns</p>\n",
       "</div>"
      ],
      "text/plain": [
       "  Smoke Sport   SBPCB   DBPCB   HRCB   SBPAB  DBPAB   HRAB   SBPA3  DBPA3  \\\n",
       "0     0     0  152.00   98.00  80.67  133.13  83.80  71.18  129.56  81.21   \n",
       "1     2     2  153.33   96.33  99.67  130.60  73.25  70.42       .      .   \n",
       "2     1     0  149.33  103.67     73  116.34  84.95  76.85       .      .   \n",
       "3     0     2  149.33   92.00     74  104.99  74.33  76.05  115.48  77.91   \n",
       "4     0     2  158.00  105.00  73.33  115.26  77.97  81.47  118.07  79.44   \n",
       "\n",
       "   ... DBPCE HRCE SBPAE DBPAE HRAE AgeB    BMIB EndPoint Time Male  \n",
       "0  ...     .    .     .     .    .   24  22.694        0   80    1  \n",
       "1  ...     .    .     .     .    .   42  26.644        0   73    0  \n",
       "2  ...     .    .     .     .    .   28  22.266        0   80    0  \n",
       "3  ...     .    .     .     .    .   44  23.951        0   80    1  \n",
       "4  ...     .    .     .     .    .   36  22.234        0   80    0  \n",
       "\n",
       "[5 rows x 28 columns]"
      ]
     },
     "execution_count": 3,
     "metadata": {},
     "output_type": "execute_result"
    }
   ],
   "source": [
    "df = pd.read_csv('harvest.txt', sep='\\t', header=0)\n",
    "df.head()"
   ]
  },
  {
   "cell_type": "markdown",
   "id": "4fd90777",
   "metadata": {},
   "source": [
    "## Is there any association between gender and sport activity?"
   ]
  },
  {
   "cell_type": "code",
   "execution_count": 4,
   "id": "872b3436",
   "metadata": {},
   "outputs": [
    {
     "name": "stdout",
     "output_type": "stream",
     "text": [
      "  Smoke Sport   SBPCB   DBPCB   HRCB   SBPAB  DBPAB   HRAB   SBPA3  DBPA3  \\\n",
      "0     0     0  152.00   98.00  80.67  133.13  83.80  71.18  129.56  81.21   \n",
      "1     2     2  153.33   96.33  99.67  130.60  73.25  70.42       .      .   \n",
      "2     1     0  149.33  103.67     73  116.34  84.95  76.85       .      .   \n",
      "3     0     2  149.33   92.00     74  104.99  74.33  76.05  115.48  77.91   \n",
      "4     0     2  158.00  105.00  73.33  115.26  77.97  81.47  118.07  79.44   \n",
      "\n",
      "   ... DBPCE HRCE SBPAE DBPAE HRAE AgeB    BMIB EndPoint Time  Gender  \n",
      "0  ...     .    .     .     .    .   24  22.694        0   80    Male  \n",
      "1  ...     .    .     .     .    .   42  26.644        0   73  Female  \n",
      "2  ...     .    .     .     .    .   28  22.266        0   80  Female  \n",
      "3  ...     .    .     .     .    .   44  23.951        0   80    Male  \n",
      "4  ...     .    .     .     .    .   36  22.234        0   80  Female  \n",
      "\n",
      "[5 rows x 28 columns]\n"
     ]
    }
   ],
   "source": [
    "# First, we'll convert the gender from o's and 1's to Male and Female.\n",
    "# Replace values in the 'Male' column and rename it 'Gender'.\n",
    "df['Male'] = df['Male'].map({1: 'Male', 0: 'Female'})\n",
    "df.rename(columns={'Male': 'Gender'}, inplace=True)\n",
    "\n",
    "# Show the first few rows to verify the changes\n",
    "print(df.head())\n"
   ]
  },
  {
   "cell_type": "code",
   "execution_count": null,
   "id": "12e7a151",
   "metadata": {},
   "outputs": [],
   "source": []
  },
  {
   "cell_type": "code",
   "execution_count": 6,
   "id": "ccaa756b",
   "metadata": {},
   "outputs": [
    {
     "name": "stdout",
     "output_type": "stream",
     "text": [
      "Chi-squared: 57.402073411077325, p-value: 0.00000000001018754974\n"
     ]
    }
   ],
   "source": [
    "#contingency table:\n",
    "contingen_table = pd.crosstab(df['Gender'], df['Sport'])\n",
    "# Perform the Chi-squared test\n",
    "chi2, p, dof, expected = chi2_contingency(contingen_table)\n",
    "P = \"{:.20f}\".format(p)\n",
    "#P = float(p)\n",
    "print(f'Chi-squared: {chi2}, p-value: {P}')"
   ]
  },
  {
   "cell_type": "markdown",
   "id": "0a67e16d",
   "metadata": {},
   "source": [
    "The Chi-squared test yielded a Chi-squared score of roughly 57.40 and a low p-value (around 1.02 × 1 0 − 11 1.02×10 −11). The p-value is substantially lower than the often used significance level of 0.05 (or even lower thresholds such as 0.01 or 0.001), indicating that there is a statistically significant relationship between gender and sport participation in your dataset.\n",
    "\n",
    "In other words, the variation in the distribution of sport activities between genders seems unlikely to be attributable to chance, and there appears to be a significant association between these two factors. This could be a significant result for future study or decision-making about gender and sports participation or preferences."
   ]
  },
  {
   "cell_type": "markdown",
   "id": "79c349a5",
   "metadata": {},
   "source": [
    "## 11.1. What statistical test would you use to test this association for statistical significance??\n"
   ]
  },
  {
   "cell_type": "markdown",
   "id": "faf6c67e",
   "metadata": {},
   "source": [
    "The Chi-squared test of independence, which we have previously employed, is the ideal statistical test for investigating the relationship between two categorical variables, such as gender (male and female) and sport activity (various types of sports or degrees of participation). This test determines whether there is a significant relationship between the two variables by analyzing whether the distribution of one variable differs across the categories of the other.\n",
    "\n",
    "Here's why the Chi-squared test is useful:\n",
    "\n",
    "Categorical Data: Gender and sport activity are categorical variables. The Chi-squared test is intended primarily for categorical data.\n",
    "Independence: It tests the hypothesis that the incidence of one category is unrelated to the occurrence of another, which is precisely what you want to evaluate between gender and sport participation.\n",
    "\n",
    "Independence: It tests the hypothesis that the occurrence of one category is independent of the occurrence of another, which is exactly what you want to assess between gender and sport activity.\n",
    "\n",
    "Frequency Counts: The test calculates the test statistic based on the number of occurrences in each variable category.\n",
    "\n",
    "If the data had been ordinal or continuous, different tests might have been suitable. For ordinal data, we could apply a chi-squared test for trend or ordinal logistic regression. For continuous data, depending on the distribution and relationship between the variables, tests such as t-tests, ANOVA, or regression analysis may be applicable.\n",
    "\n",
    "Given the nature of our variables, the Chi-squared test is an appropriate choice for examining the relationship between gender and sport activity.ty."
   ]
  },
  {
   "cell_type": "markdown",
   "id": "b33044e5",
   "metadata": {},
   "source": [
    "## ## 11.2. What is the value of the test statistic? "
   ]
  },
  {
   "cell_type": "markdown",
   "id": "5db36feb",
   "metadata": {},
   "source": [
    "The **Chi-squared** test returns a Chi-squared statistic of around **57.40**."
   ]
  },
  {
   "cell_type": "markdown",
   "id": "b6490809",
   "metadata": {},
   "source": [
    "## 11.3 What is the p-vale of the test statistic? "
   ]
  },
  {
   "cell_type": "markdown",
   "id": "16c35299",
   "metadata": {},
   "source": [
    "The **p-value** calculated from the above statistics is about **1.02 × 1 0 − 11 1.02×10 −11**."
   ]
  },
  {
   "cell_type": "markdown",
   "id": "9bbbc51e",
   "metadata": {},
   "source": [
    "## 11.4 Is this association statistically significant (using p<0.05 threshold)? Yes/no"
   ]
  },
  {
   "cell_type": "markdown",
   "id": "3b3b6bad",
   "metadata": {},
   "source": [
    "**Yes** the association is statistically significant using p threshold value as 0.05"
   ]
  },
  {
   "cell_type": "markdown",
   "id": "dfd9a66c",
   "metadata": {},
   "source": [
    "## 11.5 Did you meet the statistical assumption of the test? Explain your answer "
   ]
  },
  {
   "cell_type": "markdown",
   "id": "d97f3890",
   "metadata": {},
   "source": [
    "**Yes**, we met the statistical assumption.\n",
    "\n",
    "The **statistical assumption** for the **chi-square test** has been met. Specifically, the assumption of predicted frequencies is met. This assumes that **all predicted frequencies** in the contingency table are **greater than or equal to 5**. In our situation, this requirement is satisfied.\n",
    "\n",
    "As a result, we may conclude that both the minimum predicted frequency and the sample size requirements have been met. The Chi-square test is acceptable for this situation and provides statistically accurate findings."
   ]
  },
  {
   "cell_type": "markdown",
   "id": "538eb7df",
   "metadata": {},
   "source": [
    "## 11.6 Provide your code that you used to answer the analytics question.\n"
   ]
  },
  {
   "cell_type": "code",
   "execution_count": 7,
   "id": "f56344d7",
   "metadata": {},
   "outputs": [
    {
     "name": "stdout",
     "output_type": "stream",
     "text": [
      "Value of test statistic (Chi-Square Statistic): 57.402073411077325\n",
      "P-value of the test statistic: 1.0187549744998887e-11\n",
      "Association is statistically significant\n",
      "All statistical assumptions are satisfied\n"
     ]
    }
   ],
   "source": [
    "# Perform chi-square test and contingency table calculation\n",
    "chi2_result = chi2_contingency(contingency_table)\n",
    "\n",
    "# Extract relevant results\n",
    "chi_square_statistic = chi2_result[0]\n",
    "p_value = chi2_result[1]\n",
    "\n",
    "# Print test statistics and p-value\n",
    "print(f'Value of test statistic (Chi-Square Statistic): {chi_square_statistic}')\n",
    "print(f'P-value of the test statistic: {p_value}')\n",
    "\n",
    "# Determine if the result is statistically significant or not\n",
    "alpha_value = 0.05\n",
    "if p_value < alpha_value:\n",
    "    print(\"Association is statistically significant\")\n",
    "else:\n",
    "    print(\"Association is not statistically significant\")\n",
    "\n",
    "# Check if the assumption for the expected frequencies is met or not\n",
    "if (df.shape[0] > 30) or ((chi2_result[3] > 5).sum() / chi2_result[3].size < 0.8) or (chi2_result[3] < 1).any():\n",
    "    print('All statistical assumptions are satisfied')\n",
    "else:\n",
    "    print(\"Statistical assumptions are not satisfied\")\n"
   ]
  }
 ],
 "metadata": {
  "kernelspec": {
   "display_name": "Python 3 (ipykernel)",
   "language": "python",
   "name": "python3"
  },
  "language_info": {
   "codemirror_mode": {
    "name": "ipython",
    "version": 3
   },
   "file_extension": ".py",
   "mimetype": "text/x-python",
   "name": "python",
   "nbconvert_exporter": "python",
   "pygments_lexer": "ipython3",
   "version": "3.11.4"
  }
 },
 "nbformat": 4,
 "nbformat_minor": 5
}
